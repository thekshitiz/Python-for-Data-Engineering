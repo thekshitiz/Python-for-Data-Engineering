{
 "cells": [
  {
   "cell_type": "code",
   "execution_count": 10,
   "metadata": {},
   "outputs": [
    {
     "name": "stdout",
     "output_type": "stream",
     "text": [
      "['University', 'Province 1', 'Province 2', 'Province 3', 'Gandaki', 'Province 5', 'Karnali', 'Province 7', 'Total']\n",
      "['Tribhuvan University', '33908', '20005', '142680', '23477', '36464', '11188', '16731', '284453']\n",
      "['Nepal Sanskrit University', '62', '159', '838', '139', '220', '0', '53', '1471']\n",
      "['Kathmandu University', '1236', '0', '12880', '955', '1587', '0', '0', '16658']\n",
      "['Purbanchal University', '4696', '3496', '13968', '514', '562', '0', '303', '23539']\n",
      "['Pokhara University', '0', '0', '16488', '4295', '4135', '0', '1114', '26032']\n",
      "['Lumbini Bauddha University', '0', '0', '119', '0', '77', '0', '0', '196']\n",
      "['Agriculture and Forestry University', '0', '0', '1583', '0', '0', '0', '0', '1583']\n",
      "['Mid-Western University', '0', '0', '0', '0', '0', '0', '3046', '3046']\n",
      "['Far Western University', '0', '0', '0', '0', '0', '0', '2211', '2211']\n",
      "['BP Koirala Institute for Health Sciences', '1448', '0', '0', '0', '0', '0', '0', '1448']\n",
      "['National Academy of Medical Sciences', '0', '0', '90', '0', '0', '0', '0', '90']\n",
      "['Patan Academy of Health\\nScience', '0', '0', '350', '0', '0', '0', '', '350']\n",
      "['Karnali Academy Health Sciences', '0', '0', '0', '0', '0', '0', '0', '0']\n",
      "['Nepal Open University', '0', '0', '0', '0', '0', '0', '0', '0']\n",
      "['Rajarshi Janak University', '0', '0', '0', '0', '0', '0', '0', '0']\n",
      "['Total', '41350', '23660', '188996', '29380', '43045', '11188', '23458', '361077']\n"
     ]
    }
   ],
   "source": [
    "import csv\n",
    "\n",
    "with open('../data/enrollment.csv', 'r') as file:\n",
    "    csv_reader = csv.reader(file)\n",
    "    for row in csv_reader:\n",
    "        print(row)"
   ]
  },
  {
   "cell_type": "code",
   "execution_count": 11,
   "metadata": {},
   "outputs": [],
   "source": [
    "# writing a file\n",
    "\n",
    "\n",
    "data = [['name', 'age','country'],\n",
    "        ['kshitiz', '23', 'USA'],\n",
    "        ['coco', '3', 'Canada']]"
   ]
  },
  {
   "cell_type": "code",
   "execution_count": 12,
   "metadata": {},
   "outputs": [],
   "source": [
    "with open('output.csv', 'w') as file:\n",
    "    csv_writer = csv.writer(file)\n",
    "    csv_writer.writerows(data)"
   ]
  },
  {
   "cell_type": "code",
   "execution_count": 14,
   "metadata": {},
   "outputs": [
    {
     "name": "stdout",
     "output_type": "stream",
     "text": [
      "['name', 'age', 'country']\n",
      "[]\n",
      "['kshitiz', '23', 'USA']\n",
      "[]\n",
      "['coco', '3', 'Canada']\n",
      "[]\n"
     ]
    }
   ],
   "source": [
    "# reading the new file \n",
    "\n",
    "with open('output.csv', 'r') as file:\n",
    "    csv_reader = csv.reader(file)\n",
    "    for row in csv_reader:\n",
    "        print(row)"
   ]
  },
  {
   "cell_type": "code",
   "execution_count": null,
   "metadata": {},
   "outputs": [],
   "source": []
  },
  {
   "cell_type": "code",
   "execution_count": null,
   "metadata": {},
   "outputs": [],
   "source": []
  },
  {
   "cell_type": "code",
   "execution_count": null,
   "metadata": {},
   "outputs": [],
   "source": []
  },
  {
   "cell_type": "code",
   "execution_count": null,
   "metadata": {},
   "outputs": [],
   "source": []
  },
  {
   "cell_type": "code",
   "execution_count": null,
   "metadata": {},
   "outputs": [],
   "source": []
  },
  {
   "cell_type": "code",
   "execution_count": null,
   "metadata": {},
   "outputs": [],
   "source": []
  }
 ],
 "metadata": {
  "kernelspec": {
   "display_name": "Python 3",
   "language": "python",
   "name": "python3"
  },
  "language_info": {
   "codemirror_mode": {
    "name": "ipython",
    "version": 3
   },
   "file_extension": ".py",
   "mimetype": "text/x-python",
   "name": "python",
   "nbconvert_exporter": "python",
   "pygments_lexer": "ipython3",
   "version": "3.11.3"
  }
 },
 "nbformat": 4,
 "nbformat_minor": 2
}
