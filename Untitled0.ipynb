{
  "nbformat": 4,
  "nbformat_minor": 0,
  "metadata": {
    "colab": {
      "provenance": []
    },
    "kernelspec": {
      "name": "python3",
      "display_name": "Python 3"
    },
    "language_info": {
      "name": "python"
    }
  },
  "cells": [
    {
      "cell_type": "code",
      "execution_count": null,
      "metadata": {
        "id": "pznjGpFGfQvN",
        "colab": {
          "base_uri": "https://localhost:8080/"
        },
        "outputId": "aeb791a4-2e8c-4b3f-cacb-0fa2c4aee33d"
      },
      "outputs": [
        {
          "output_type": "stream",
          "name": "stdout",
          "text": [
            "hello data engineering\n"
          ]
        }
      ],
      "source": [
        "print(\"hello data engineering\")"
      ]
    },
    {
      "cell_type": "code",
      "source": [
        "greeting = \"hello data engineering\""
      ],
      "metadata": {
        "id": "-dkwB29UkLyb"
      },
      "execution_count": null,
      "outputs": []
    },
    {
      "cell_type": "code",
      "source": [
        "int_var = 7\n",
        "float_var = 3.14\n",
        "str_val = \"hello you\"\n",
        "bol_var = True"
      ],
      "metadata": {
        "id": "0ZSi2vPmkPfJ"
      },
      "execution_count": null,
      "outputs": []
    },
    {
      "cell_type": "code",
      "source": [
        "print(int_var)"
      ],
      "metadata": {
        "colab": {
          "base_uri": "https://localhost:8080/"
        },
        "id": "ctSR8Zu8kbqb",
        "outputId": "97e2f21a-460b-464c-93d0-8b847bdb2dc4"
      },
      "execution_count": null,
      "outputs": [
        {
          "output_type": "stream",
          "name": "stdout",
          "text": [
            "7\n"
          ]
        }
      ]
    },
    {
      "cell_type": "code",
      "source": [
        "num1 = 7\n",
        "num2 = 3\n",
        "sub = num1 + num2\n",
        "mul = num1 * num2\n",
        "division = num2/num1\n",
        "\n",
        "\n",
        "print(sub)\n",
        "print(mul)\n",
        "print(division)\n"
      ],
      "metadata": {
        "colab": {
          "base_uri": "https://localhost:8080/"
        },
        "id": "-r8s57xkkq0K",
        "outputId": "426b13e7-d05c-44be-e02a-cc716f34d4c4"
      },
      "execution_count": null,
      "outputs": [
        {
          "output_type": "stream",
          "name": "stdout",
          "text": [
            "10\n",
            "21\n",
            "0.42857142857142855\n"
          ]
        }
      ]
    },
    {
      "cell_type": "code",
      "source": [
        "var_equal = num1 == num2\n",
        "print(var_equal)"
      ],
      "metadata": {
        "colab": {
          "base_uri": "https://localhost:8080/"
        },
        "id": "pHNPtp5dkrEr",
        "outputId": "e9e6e592-beb1-44f9-e471-4b6db66e8c89"
      },
      "execution_count": null,
      "outputs": [
        {
          "output_type": "stream",
          "name": "stdout",
          "text": [
            "False\n"
          ]
        }
      ]
    },
    {
      "cell_type": "code",
      "source": [
        "var_equal = num1 != num2\n",
        "print(var_equal)"
      ],
      "metadata": {
        "colab": {
          "base_uri": "https://localhost:8080/"
        },
        "id": "foWngYikkrI4",
        "outputId": "5ece0018-e3fe-4ecf-d738-66d4d1f50b89"
      },
      "execution_count": null,
      "outputs": [
        {
          "output_type": "stream",
          "name": "stdout",
          "text": [
            "True\n"
          ]
        }
      ]
    },
    {
      "cell_type": "code",
      "source": [
        "print(True or False)\n",
        "print(True and False)"
      ],
      "metadata": {
        "colab": {
          "base_uri": "https://localhost:8080/"
        },
        "id": "AtXUtNhdkrMX",
        "outputId": "6acf8363-0700-407d-8bd5-44cb1266e6df"
      },
      "execution_count": null,
      "outputs": [
        {
          "output_type": "stream",
          "name": "stdout",
          "text": [
            "True\n",
            "False\n"
          ]
        }
      ]
    },
    {
      "cell_type": "code",
      "source": [
        "# control structure\n",
        "\n",
        "num = 7\n",
        "if num > 10:\n",
        "  print(\"greater\")\n",
        "else:\n",
        "  print(\"smaller\")"
      ],
      "metadata": {
        "colab": {
          "base_uri": "https://localhost:8080/"
        },
        "id": "VXuvefXckrPy",
        "outputId": "c6f7b200-877a-400a-ad7f-3fd6f9e4642d"
      },
      "execution_count": null,
      "outputs": [
        {
          "output_type": "stream",
          "name": "stdout",
          "text": [
            "smaller\n"
          ]
        }
      ]
    },
    {
      "cell_type": "code",
      "source": [
        "for i in range(5):\n",
        "  print(i)"
      ],
      "metadata": {
        "colab": {
          "base_uri": "https://localhost:8080/"
        },
        "id": "cITJqzKckrTM",
        "outputId": "e6e69eb6-0cbb-452c-b9e9-6aae9c1a7123"
      },
      "execution_count": null,
      "outputs": [
        {
          "output_type": "stream",
          "name": "stdout",
          "text": [
            "0\n",
            "1\n",
            "2\n",
            "3\n",
            "4\n"
          ]
        }
      ]
    },
    {
      "cell_type": "code",
      "source": [
        "num = 5\n",
        "while num >=0:\n",
        "  print(num)\n",
        "  num = num - 1"
      ],
      "metadata": {
        "colab": {
          "base_uri": "https://localhost:8080/"
        },
        "id": "DVyHJZoDkrWE",
        "outputId": "848544ce-c8df-471c-e539-c8dd992f2b22"
      },
      "execution_count": null,
      "outputs": [
        {
          "output_type": "stream",
          "name": "stdout",
          "text": [
            "5\n",
            "4\n",
            "3\n",
            "2\n",
            "1\n",
            "0\n"
          ]
        }
      ]
    }
  ]
}