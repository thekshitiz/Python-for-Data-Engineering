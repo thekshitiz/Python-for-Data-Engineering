{
 "cells": [
  {
   "cell_type": "code",
   "execution_count": 3,
   "metadata": {},
   "outputs": [
    {
     "name": "stdout",
     "output_type": "stream",
     "text": [
      "(1, ' kshitiz', 'gaighat', 88899888)\n"
     ]
    }
   ],
   "source": [
    "# tuples are immutable\n",
    "\n",
    "employee = (1, \" kshitiz\", 'gaighat', 88899888)\n",
    "\n",
    "print(employee)"
   ]
  },
  {
   "cell_type": "code",
   "execution_count": 2,
   "metadata": {},
   "outputs": [
    {
     "name": "stdout",
     "output_type": "stream",
     "text": [
      " kshitiz\n",
      "4\n"
     ]
    }
   ],
   "source": [
    "print(employee[1])\n",
    "\n",
    "print(len(employee))"
   ]
  },
  {
   "cell_type": "code",
   "execution_count": 5,
   "metadata": {},
   "outputs": [
    {
     "name": "stdout",
     "output_type": "stream",
     "text": [
      "<class 'list'>\n",
      "(1, ' kshitiz', 'gaighat', 88899888)\n"
     ]
    }
   ],
   "source": [
    "# but we can convert it into the list\n",
    "\n",
    "new_emp =  list(employee)\n",
    "print(type(new_emp))\n",
    "print(employee)"
   ]
  },
  {
   "cell_type": "code",
   "execution_count": 6,
   "metadata": {},
   "outputs": [
    {
     "name": "stdout",
     "output_type": "stream",
     "text": [
      "1\n",
      " kshitiz\n",
      "gaighat\n",
      "88899888\n"
     ]
    }
   ],
   "source": [
    "for x in employee:\n",
    "    print(x)"
   ]
  },
  {
   "cell_type": "code",
   "execution_count": 8,
   "metadata": {},
   "outputs": [
    {
     "name": "stdout",
     "output_type": "stream",
     "text": [
      "2\n"
     ]
    }
   ],
   "source": [
    "print(employee.index(\"gaighat\"))"
   ]
  },
  {
   "cell_type": "code",
   "execution_count": 9,
   "metadata": {},
   "outputs": [],
   "source": [
    "# lists"
   ]
  },
  {
   "cell_type": "code",
   "execution_count": 11,
   "metadata": {},
   "outputs": [
    {
     "name": "stdout",
     "output_type": "stream",
     "text": [
      "['development', 'tessting', 'monitoring']\n"
     ]
    }
   ],
   "source": [
    "tasks = ['development', 'tessting', 'monitoring']\n",
    "print(tasks)"
   ]
  },
  {
   "cell_type": "code",
   "execution_count": 12,
   "metadata": {},
   "outputs": [
    {
     "name": "stdout",
     "output_type": "stream",
     "text": [
      "tessting\n"
     ]
    }
   ],
   "source": [
    "print(tasks[1])"
   ]
  },
  {
   "cell_type": "code",
   "execution_count": 13,
   "metadata": {},
   "outputs": [
    {
     "name": "stdout",
     "output_type": "stream",
     "text": [
      "['development', 'new_testing', 'monitoring']\n"
     ]
    }
   ],
   "source": [
    "tasks[1] = 'new_testing'\n",
    "print(tasks\n",
    "      )"
   ]
  },
  {
   "cell_type": "code",
   "execution_count": 14,
   "metadata": {},
   "outputs": [
    {
     "name": "stdout",
     "output_type": "stream",
     "text": [
      "['development', 'new_testing', 'monitoring', 'production deployment']\n"
     ]
    }
   ],
   "source": [
    "tasks.append('production deployment')\n",
    "print(tasks)"
   ]
  },
  {
   "cell_type": "code",
   "execution_count": 18,
   "metadata": {},
   "outputs": [
    {
     "name": "stdout",
     "output_type": "stream",
     "text": [
      "['development', 'unit testing', 'new_testing', 'monitoring', 'production deployment']\n"
     ]
    }
   ],
   "source": [
    "tasks.insert(1,'unit testing')\n",
    "print(tasks)"
   ]
  },
  {
   "cell_type": "code",
   "execution_count": 19,
   "metadata": {},
   "outputs": [
    {
     "name": "stdout",
     "output_type": "stream",
     "text": [
      "['development', 'new_testing', 'monitoring', 'production deployment']\n"
     ]
    }
   ],
   "source": [
    "tasks.remove('unit testing')\n",
    "print(tasks)"
   ]
  },
  {
   "cell_type": "code",
   "execution_count": 21,
   "metadata": {},
   "outputs": [
    {
     "name": "stdout",
     "output_type": "stream",
     "text": [
      "['development', 'monitoring', 'production deployment']\n"
     ]
    }
   ],
   "source": [
    "tasks.pop(1)\n",
    "print(tasks)"
   ]
  },
  {
   "cell_type": "code",
   "execution_count": 22,
   "metadata": {},
   "outputs": [
    {
     "name": "stdout",
     "output_type": "stream",
     "text": [
      "development\n",
      "monitoring\n",
      "production deployment\n"
     ]
    }
   ],
   "source": [
    "for x in tasks:\n",
    "    print(x)"
   ]
  },
  {
   "cell_type": "code",
   "execution_count": null,
   "metadata": {},
   "outputs": [],
   "source": [
    "# sets \n",
    "# sets are not ordered and cant have repeated value\n"
   ]
  },
  {
   "cell_type": "code",
   "execution_count": 23,
   "metadata": {},
   "outputs": [
    {
     "name": "stdout",
     "output_type": "stream",
     "text": [
      "['development', 'monitoring', 'production deployment']\n"
     ]
    }
   ],
   "source": [
    "work = {'development', 'testing', 'monitoring'}\n",
    "print(tasks)"
   ]
  },
  {
   "cell_type": "code",
   "execution_count": null,
   "metadata": {},
   "outputs": [],
   "source": []
  },
  {
   "cell_type": "code",
   "execution_count": 24,
   "metadata": {},
   "outputs": [],
   "source": [
    "# dictionaries"
   ]
  },
  {
   "cell_type": "code",
   "execution_count": 26,
   "metadata": {},
   "outputs": [
    {
     "name": "stdout",
     "output_type": "stream",
     "text": [
      "{'name': 'kshitiz', 'city': 'kathmandu', 'age': 16}\n"
     ]
    }
   ],
   "source": [
    "user = {'name': 'kshitiz', 'city' :'kathmandu', 'age':16}\n",
    "print(user)"
   ]
  },
  {
   "cell_type": "code",
   "execution_count": 27,
   "metadata": {},
   "outputs": [
    {
     "name": "stdout",
     "output_type": "stream",
     "text": [
      "kathmandu\n"
     ]
    }
   ],
   "source": [
    "print(user['city'])"
   ]
  },
  {
   "cell_type": "code",
   "execution_count": 28,
   "metadata": {},
   "outputs": [
    {
     "data": {
      "text/plain": [
       "'kshitiz'"
      ]
     },
     "execution_count": 28,
     "metadata": {},
     "output_type": "execute_result"
    }
   ],
   "source": [
    "user.get('name')"
   ]
  },
  {
   "cell_type": "code",
   "execution_count": 31,
   "metadata": {},
   "outputs": [
    {
     "name": "stdout",
     "output_type": "stream",
     "text": [
      "dict_values(['kshitiz', 'kathmandu', 16])\n"
     ]
    }
   ],
   "source": [
    "values = user.values()\n",
    "print(values)"
   ]
  },
  {
   "cell_type": "code",
   "execution_count": 32,
   "metadata": {},
   "outputs": [
    {
     "name": "stdout",
     "output_type": "stream",
     "text": [
      "yes\n"
     ]
    }
   ],
   "source": [
    "if 'name' in user:\n",
    "    print('yes')"
   ]
  },
  {
   "cell_type": "code",
   "execution_count": null,
   "metadata": {},
   "outputs": [],
   "source": []
  },
  {
   "cell_type": "code",
   "execution_count": 30,
   "metadata": {},
   "outputs": [
    {
     "name": "stdout",
     "output_type": "stream",
     "text": [
      "dict_keys(['name', 'city', 'age'])\n"
     ]
    }
   ],
   "source": [
    "keys = user.keys()\n",
    "print(keys)"
   ]
  },
  {
   "cell_type": "code",
   "execution_count": 33,
   "metadata": {},
   "outputs": [
    {
     "name": "stdout",
     "output_type": "stream",
     "text": [
      "{'name': 'kshitiz', 'city': 'bhaktapur', 'age': 16}\n"
     ]
    }
   ],
   "source": [
    "user['city'] = 'bhaktapur'\n",
    "print(user)"
   ]
  },
  {
   "cell_type": "code",
   "execution_count": 34,
   "metadata": {},
   "outputs": [
    {
     "name": "stdout",
     "output_type": "stream",
     "text": [
      "{'name': 'kshitiz', 'city': 'bhaktapur', 'age': 16, 'mobile': 12365478}\n"
     ]
    }
   ],
   "source": [
    "user.update({'mobile':12365478})\n",
    "print(user)"
   ]
  },
  {
   "cell_type": "code",
   "execution_count": 35,
   "metadata": {},
   "outputs": [],
   "source": [
    "# to find the smallest number\n",
    "\n",
    "numbers = [ 3,5,1,7,9,5,3,3,2,4,7,8,5,4,4,43]\n"
   ]
  },
  {
   "cell_type": "code",
   "execution_count": 49,
   "metadata": {},
   "outputs": [
    {
     "name": "stdout",
     "output_type": "stream",
     "text": [
      "The smallest number is: 1\n"
     ]
    }
   ],
   "source": [
    "def print_smallest_number(numbers):\n",
    "    smallest = min(numbers)\n",
    "    print(\"The smallest number is:\", smallest)\n",
    "\n",
    "\n",
    "numbers_list = [5, 3, 8, 1, 9, 2]\n",
    "print_smallest_number(numbers_list)\n",
    "\n",
    "\n"
   ]
  },
  {
   "cell_type": "code",
   "execution_count": null,
   "metadata": {},
   "outputs": [],
   "source": []
  },
  {
   "cell_type": "code",
   "execution_count": null,
   "metadata": {},
   "outputs": [],
   "source": []
  }
 ],
 "metadata": {
  "kernelspec": {
   "display_name": "Python 3",
   "language": "python",
   "name": "python3"
  },
  "language_info": {
   "codemirror_mode": {
    "name": "ipython",
    "version": 3
   },
   "file_extension": ".py",
   "mimetype": "text/x-python",
   "name": "python",
   "nbconvert_exporter": "python",
   "pygments_lexer": "ipython3",
   "version": "3.11.3"
  }
 },
 "nbformat": 4,
 "nbformat_minor": 2
}
